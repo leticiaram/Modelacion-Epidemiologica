{
  "nbformat": 4,
  "nbformat_minor": 0,
  "metadata": {
    "colab": {
      "provenance": [],
      "toc_visible": true,
      "authorship_tag": "ABX9TyPn+XjVKAbwEhoXu6LkZhbo",
      "include_colab_link": true
    },
    "kernelspec": {
      "name": "python3",
      "display_name": "Python 3"
    },
    "language_info": {
      "name": "python"
    }
  },
  "cells": [
    {
      "cell_type": "markdown",
      "metadata": {
        "id": "view-in-github",
        "colab_type": "text"
      },
      "source": [
        "<a href=\"https://colab.research.google.com/github/leticiaram/Modelacion-Epidemiologica/blob/main/10_ABC_Ejemplo.ipynb\" target=\"_parent\"><img src=\"https://colab.research.google.com/assets/colab-badge.svg\" alt=\"Open In Colab\"/></a>"
      ]
    },
    {
      "cell_type": "markdown",
      "source": [
        "# Paquetes"
      ],
      "metadata": {
        "id": "cpaYfG0z6bGV"
      }
    },
    {
      "cell_type": "code",
      "execution_count": 1,
      "metadata": {
        "colab": {
          "base_uri": "https://localhost:8080/"
        },
        "id": "DleJQPpglSsM",
        "outputId": "2b50b6f2-f1f8-4c40-e1ab-e92f033d324f"
      },
      "outputs": [
        {
          "output_type": "stream",
          "name": "stdout",
          "text": [
            "Collecting EoN\n",
            "  Downloading eon-1.2.tar.gz (117 kB)\n",
            "\u001b[?25l     \u001b[90m━━━━━━━━━━━━━━━━━━━━━━━━━━━━━━━━━━━━━━━━\u001b[0m \u001b[32m0.0/117.3 kB\u001b[0m \u001b[31m?\u001b[0m eta \u001b[36m-:--:--\u001b[0m\r\u001b[2K     \u001b[90m━━━━━━━━━━━━━━━━━━━━━━━━━━━━━━━━━━━━━━━━\u001b[0m \u001b[32m117.3/117.3 kB\u001b[0m \u001b[31m6.8 MB/s\u001b[0m eta \u001b[36m0:00:00\u001b[0m\n",
            "\u001b[?25h  Preparing metadata (setup.py) ... \u001b[?25l\u001b[?25hdone\n",
            "Requirement already satisfied: networkx>=2 in /usr/local/lib/python3.10/dist-packages (from EoN) (3.4.2)\n",
            "Requirement already satisfied: numpy in /usr/local/lib/python3.10/dist-packages (from EoN) (1.26.4)\n",
            "Requirement already satisfied: scipy in /usr/local/lib/python3.10/dist-packages (from EoN) (1.13.1)\n",
            "Requirement already satisfied: matplotlib in /usr/local/lib/python3.10/dist-packages (from EoN) (3.8.0)\n",
            "Requirement already satisfied: contourpy>=1.0.1 in /usr/local/lib/python3.10/dist-packages (from matplotlib->EoN) (1.3.1)\n",
            "Requirement already satisfied: cycler>=0.10 in /usr/local/lib/python3.10/dist-packages (from matplotlib->EoN) (0.12.1)\n",
            "Requirement already satisfied: fonttools>=4.22.0 in /usr/local/lib/python3.10/dist-packages (from matplotlib->EoN) (4.55.0)\n",
            "Requirement already satisfied: kiwisolver>=1.0.1 in /usr/local/lib/python3.10/dist-packages (from matplotlib->EoN) (1.4.7)\n",
            "Requirement already satisfied: packaging>=20.0 in /usr/local/lib/python3.10/dist-packages (from matplotlib->EoN) (24.2)\n",
            "Requirement already satisfied: pillow>=6.2.0 in /usr/local/lib/python3.10/dist-packages (from matplotlib->EoN) (11.0.0)\n",
            "Requirement already satisfied: pyparsing>=2.3.1 in /usr/local/lib/python3.10/dist-packages (from matplotlib->EoN) (3.2.0)\n",
            "Requirement already satisfied: python-dateutil>=2.7 in /usr/local/lib/python3.10/dist-packages (from matplotlib->EoN) (2.8.2)\n",
            "Requirement already satisfied: six>=1.5 in /usr/local/lib/python3.10/dist-packages (from python-dateutil>=2.7->matplotlib->EoN) (1.16.0)\n",
            "Building wheels for collected packages: EoN\n",
            "  Building wheel for EoN (setup.py) ... \u001b[?25l\u001b[?25hdone\n",
            "  Created wheel for EoN: filename=EoN-1.2-py3-none-any.whl size=122467 sha256=0d5091df02cf970045076e5fa0db6b2ba40fddde80ff5ff939bae1e5baaa49ab\n",
            "  Stored in directory: /root/.cache/pip/wheels/5c/f5/1a/a0eb87d5be57c62526fbd133651c442482ea5a997d88382007\n",
            "Successfully built EoN\n",
            "Installing collected packages: EoN\n",
            "Successfully installed EoN-1.2\n"
          ]
        }
      ],
      "source": [
        "!pip install EoN"
      ]
    },
    {
      "cell_type": "code",
      "source": [
        "!pip install ipdb  #para poder hacer debugging\n",
        "# https://www.geeksforgeeks.org/debugging-in-google-colab/"
      ],
      "metadata": {
        "colab": {
          "base_uri": "https://localhost:8080/"
        },
        "id": "9c6dOL1e3iE2",
        "outputId": "f5a5ef7a-f0de-4c06-e674-ba20e0eeb834"
      },
      "execution_count": 2,
      "outputs": [
        {
          "output_type": "stream",
          "name": "stdout",
          "text": [
            "Collecting ipdb\n",
            "  Downloading ipdb-0.13.13-py3-none-any.whl.metadata (14 kB)\n",
            "Requirement already satisfied: ipython>=7.31.1 in /usr/local/lib/python3.10/dist-packages (from ipdb) (7.34.0)\n",
            "Requirement already satisfied: tomli in /usr/local/lib/python3.10/dist-packages (from ipdb) (2.1.0)\n",
            "Requirement already satisfied: decorator in /usr/local/lib/python3.10/dist-packages (from ipdb) (4.4.2)\n",
            "Requirement already satisfied: setuptools>=18.5 in /usr/local/lib/python3.10/dist-packages (from ipython>=7.31.1->ipdb) (75.1.0)\n",
            "Collecting jedi>=0.16 (from ipython>=7.31.1->ipdb)\n",
            "  Downloading jedi-0.19.2-py2.py3-none-any.whl.metadata (22 kB)\n",
            "Requirement already satisfied: pickleshare in /usr/local/lib/python3.10/dist-packages (from ipython>=7.31.1->ipdb) (0.7.5)\n",
            "Requirement already satisfied: traitlets>=4.2 in /usr/local/lib/python3.10/dist-packages (from ipython>=7.31.1->ipdb) (5.7.1)\n",
            "Requirement already satisfied: prompt-toolkit!=3.0.0,!=3.0.1,<3.1.0,>=2.0.0 in /usr/local/lib/python3.10/dist-packages (from ipython>=7.31.1->ipdb) (3.0.48)\n",
            "Requirement already satisfied: pygments in /usr/local/lib/python3.10/dist-packages (from ipython>=7.31.1->ipdb) (2.18.0)\n",
            "Requirement already satisfied: backcall in /usr/local/lib/python3.10/dist-packages (from ipython>=7.31.1->ipdb) (0.2.0)\n",
            "Requirement already satisfied: matplotlib-inline in /usr/local/lib/python3.10/dist-packages (from ipython>=7.31.1->ipdb) (0.1.7)\n",
            "Requirement already satisfied: pexpect>4.3 in /usr/local/lib/python3.10/dist-packages (from ipython>=7.31.1->ipdb) (4.9.0)\n",
            "Requirement already satisfied: parso<0.9.0,>=0.8.4 in /usr/local/lib/python3.10/dist-packages (from jedi>=0.16->ipython>=7.31.1->ipdb) (0.8.4)\n",
            "Requirement already satisfied: ptyprocess>=0.5 in /usr/local/lib/python3.10/dist-packages (from pexpect>4.3->ipython>=7.31.1->ipdb) (0.7.0)\n",
            "Requirement already satisfied: wcwidth in /usr/local/lib/python3.10/dist-packages (from prompt-toolkit!=3.0.0,!=3.0.1,<3.1.0,>=2.0.0->ipython>=7.31.1->ipdb) (0.2.13)\n",
            "Downloading ipdb-0.13.13-py3-none-any.whl (12 kB)\n",
            "Downloading jedi-0.19.2-py2.py3-none-any.whl (1.6 MB)\n",
            "\u001b[2K   \u001b[90m━━━━━━━━━━━━━━━━━━━━━━━━━━━━━━━━━━━━━━━━\u001b[0m \u001b[32m1.6/1.6 MB\u001b[0m \u001b[31m27.0 MB/s\u001b[0m eta \u001b[36m0:00:00\u001b[0m\n",
            "\u001b[?25hInstalling collected packages: jedi, ipdb\n",
            "Successfully installed ipdb-0.13.13 jedi-0.19.2\n"
          ]
        }
      ]
    },
    {
      "cell_type": "code",
      "source": [
        "import EoN\n",
        "\n",
        "import networkx as nx\n",
        "from matplotlib import rc\n",
        "import matplotlib.pylab as plt\n",
        "\n",
        "#import scipy\n",
        "#import random\n",
        "import numpy as np\n",
        "\n",
        "import collections\n",
        "import scipy.stats as stats\n",
        "import ipdb"
      ],
      "metadata": {
        "id": "kJkWy9-M4otu"
      },
      "execution_count": 3,
      "outputs": []
    },
    {
      "cell_type": "markdown",
      "source": [
        "# Obtenemos datos sintéticos"
      ],
      "metadata": {
        "id": "SBxptUXg4yQx"
      }
    },
    {
      "cell_type": "code",
      "source": [
        "N = 20000      # nodos\n",
        "target_k = 7\n",
        "\n",
        "# Red Poisson\n",
        "np.random.seed(20)\n",
        "k_pois = np.random.poisson(target_k, N)\n",
        "print(sum(k_pois.tolist()))\n",
        "G_Poisson = nx.configuration_model(k_pois.tolist())"
      ],
      "metadata": {
        "colab": {
          "base_uri": "https://localhost:8080/"
        },
        "id": "ph4fcnmy4xrZ",
        "outputId": "6e416368-4a3e-4352-8ba5-aa4f2b0b1f26"
      },
      "execution_count": 6,
      "outputs": [
        {
          "output_type": "stream",
          "name": "stdout",
          "text": [
            "139890\n"
          ]
        }
      ]
    },
    {
      "cell_type": "code",
      "source": [
        "tau = 0.15        # tasa de transmisión\n",
        "gamma = 0.5      # tasa de recuperación\n",
        "rho = 0.0001      # fracción aleatoria de casos infectados iniciales\n",
        "\n",
        "S0 = N*(1-rho)\n",
        "I0 = rho*N\n",
        "R0 = 0.\n",
        "\n",
        "tmax = 40\n",
        "np.random.seed(24)\n",
        "t, S, I, R = EoN.fast_SIR(G_Poisson, tau, gamma, rho=rho, tmax = tmax)\n",
        "\n",
        "plt.plot(t, I, color = 'k', alpha=1, label='Simulation')"
      ],
      "metadata": {
        "colab": {
          "base_uri": "https://localhost:8080/",
          "height": 447
        },
        "id": "Il8maUFm5AhS",
        "outputId": "878d8ce3-2ddc-4237-d590-b730dec20276"
      },
      "execution_count": 14,
      "outputs": [
        {
          "output_type": "execute_result",
          "data": {
            "text/plain": [
              "[<matplotlib.lines.Line2D at 0x7a15d7cbcfd0>]"
            ]
          },
          "metadata": {},
          "execution_count": 14
        },
        {
          "output_type": "display_data",
          "data": {
            "text/plain": [
              "<Figure size 640x480 with 1 Axes>"
            ],
            "image/png": "[encoded data removed]"
          },
          "metadata": {}
        }
      ]
    },
    {
      "cell_type": "markdown",
      "source": [
        "## Incidencia diaria"
      ],
      "metadata": {
        "id": "a0nfssBSCk71"
      }
    },
    {
      "cell_type": "code",
      "source": [
        "Ycum = N - S"
      ],
      "metadata": {
        "id": "43PREUoBCjON"
      },
      "execution_count": 15,
      "outputs": []
    },
    {
      "cell_type": "code",
      "source": [
        "plt.figure(figsize=(4,4))\n",
        "plt.plot(t, Ycum, color = 'k', alpha=1, label='Simulation')"
      ],
      "metadata": {
        "colab": {
          "base_uri": "https://localhost:8080/",
          "height": 385
        },
        "id": "TNpJkfGPFPUp",
        "outputId": "66d8a2da-332e-4a50-8273-a13b83846b02"
      },
      "execution_count": 16,
      "outputs": [
        {
          "output_type": "execute_result",
          "data": {
            "text/plain": [
              "[<matplotlib.lines.Line2D at 0x7a15d7c3b280>]"
            ]
          },
          "metadata": {},
          "execution_count": 16
        },
        {
          "output_type": "display_data",
          "data": {
            "text/plain": [
              "<Figure size 400x400 with 1 Axes>"
            ],
            "image/png": "[encoded data removed]"
          },
          "metadata": {}
        }
      ]
    },
    {
      "cell_type": "code",
      "source": [
        "Ycum[0]"
      ],
      "metadata": {
        "colab": {
          "base_uri": "https://localhost:8080/"
        },
        "id": "P4gp-7aMTSkL",
        "outputId": "ef6499c1-bc0a-4512-cbc2-043629390fb5"
      },
      "execution_count": 17,
      "outputs": [
        {
          "output_type": "execute_result",
          "data": {
            "text/plain": [
              "2"
            ]
          },
          "metadata": {},
          "execution_count": 17
        }
      ]
    },
    {
      "cell_type": "code",
      "source": [
        "import pandas as pd\n",
        "#Ejemplo de como usar pd.cut\n",
        "sim = {'time': np.array([0, 0.5, 1.2, 1.8, 2.3, 3.4, 3.5]), 'Y': np.array([0, 1, 2, 3, 4, 5])}\n",
        "grupos = np.array([0, 1, 2, 3, 4, 5, 6])\n",
        "cut_labels, cut_bins = pd.cut( sim['time'], bins=grupos, include_lowest=True, retbins=True, labels=False)\n",
        "print(cut_labels)\n",
        "print(cut_bins)\n",
        "sim['Y'][cut_labels]"
      ],
      "metadata": {
        "colab": {
          "base_uri": "https://localhost:8080/"
        },
        "id": "VngzWyq0Fa9K",
        "outputId": "f1e14ff3-df91-4387-cbad-797212f55346"
      },
      "execution_count": 18,
      "outputs": [
        {
          "output_type": "stream",
          "name": "stdout",
          "text": [
            "[0 0 1 1 2 3 3]\n",
            "[0 1 2 3 4 5 6]\n"
          ]
        },
        {
          "output_type": "execute_result",
          "data": {
            "text/plain": [
              "array([0, 0, 1, 1, 2, 3, 3])"
            ]
          },
          "metadata": {},
          "execution_count": 18
        }
      ]
    },
    {
      "cell_type": "code",
      "source": [
        "import pandas as pd\n",
        "dias = np.arange(round(tmax)+1)\n",
        "cut_labels, cut_bins = pd.cut(t, bins=dias, include_lowest=True, retbins=True, labels=False)\n",
        "\n",
        "# Obtener el valor más grande de Y en cada día\n",
        "# Crear un DataFrame temporal\n",
        "temp_df = pd.DataFrame({\n",
        "  'bin': cut_labels,\n",
        "  'value':  np.arange(len(cut_labels))\n",
        "})\n",
        "index = temp_df.groupby('bin').max()['value'].values\n",
        "print(\"index = \", index)\n",
        "\n",
        "Y_cum_diaria = Ycum[index]\n",
        "print(\"Y_cum_diaria = \", Y_cum_diaria)"
      ],
      "metadata": {
        "colab": {
          "base_uri": "https://localhost:8080/"
        },
        "id": "V_7IxbezJeBG",
        "outputId": "fc542a54-6645-42ba-e168-dbf1cbefce1f"
      },
      "execution_count": 19,
      "outputs": [
        {
          "output_type": "stream",
          "name": "stdout",
          "text": [
            "index =  [    6    13    26    46    76   134   205   329   565   947  1472  2296\n",
            "  3469  4928  6572  8532 10568 12716 14838 16810 18605 20190 21464 22481\n",
            " 23266 23854 24308 24684 24978 25178 25333 25439 25518 25594 25642 25676\n",
            " 25703 25728 25750 25760]\n",
            "Y_cum_diaria =  [    7    11    20    32    56    92   137   223   379   623   982  1506\n",
            "  2236  3104  4066  5141  6244  7401  8482  9449 10257 10913 11416 11791\n",
            " 12059 12257 12407 12557 12650 12703 12758 12780 12812 12838 12851 12863\n",
            " 12873 12881 12889 12891]\n"
          ]
        }
      ]
    },
    {
      "cell_type": "code",
      "source": [
        "print(\"dias=\",dias)\n",
        "print(\"max t=\",max(t))\n",
        "print(\"t=\",t)\n",
        "print(\"cut_labels=\",cut_labels)\n",
        "print(len(Y_cum_diaria))"
      ],
      "metadata": {
        "colab": {
          "base_uri": "https://localhost:8080/"
        },
        "id": "Ba1jurnLKpV8",
        "outputId": "597a398b-31e2-4a7b-b646-d363775a870e"
      },
      "execution_count": 20,
      "outputs": [
        {
          "output_type": "stream",
          "name": "stdout",
          "text": [
            "dias= [ 0  1  2  3  4  5  6  7  8  9 10 11 12 13 14 15 16 17 18 19 20 21 22 23\n",
            " 24 25 26 27 28 29 30 31 32 33 34 35 36 37 38 39 40]\n",
            "max t= 39.83327385891988\n",
            "t= [ 0.          0.20606012  0.3207616  ... 39.65767348 39.70005262\n",
            " 39.83327386]\n",
            "cut_labels= [ 0  0  0 ... 39 39 39]\n",
            "40\n"
          ]
        }
      ]
    },
    {
      "cell_type": "code",
      "source": [
        "Y_cum_diaria_0 = np.concatenate([np.atleast_1d(I0),Y_cum_diaria])\n",
        "Y_cum_diaria_0"
      ],
      "metadata": {
        "colab": {
          "base_uri": "https://localhost:8080/"
        },
        "id": "WHVnXXebRqnB",
        "outputId": "871566bd-2835-4d0a-cd74-c37103849dd4"
      },
      "execution_count": 21,
      "outputs": [
        {
          "output_type": "execute_result",
          "data": {
            "text/plain": [
              "array([2.0000e+00, 7.0000e+00, 1.1000e+01, 2.0000e+01, 3.2000e+01,\n",
              "       5.6000e+01, 9.2000e+01, 1.3700e+02, 2.2300e+02, 3.7900e+02,\n",
              "       6.2300e+02, 9.8200e+02, 1.5060e+03, 2.2360e+03, 3.1040e+03,\n",
              "       4.0660e+03, 5.1410e+03, 6.2440e+03, 7.4010e+03, 8.4820e+03,\n",
              "       9.4490e+03, 1.0257e+04, 1.0913e+04, 1.1416e+04, 1.1791e+04,\n",
              "       1.2059e+04, 1.2257e+04, 1.2407e+04, 1.2557e+04, 1.2650e+04,\n",
              "       1.2703e+04, 1.2758e+04, 1.2780e+04, 1.2812e+04, 1.2838e+04,\n",
              "       1.2851e+04, 1.2863e+04, 1.2873e+04, 1.2881e+04, 1.2889e+04,\n",
              "       1.2891e+04])"
            ]
          },
          "metadata": {},
          "execution_count": 21
        }
      ]
    },
    {
      "cell_type": "code",
      "source": [
        "plt.figure(figsize=(4,4))\n",
        "plt.plot(Y_cum_diaria_0, color = 'k', alpha=1, label='Simulation')"
      ],
      "metadata": {
        "colab": {
          "base_uri": "https://localhost:8080/",
          "height": 385
        },
        "id": "9Ldd8OXHKKFF",
        "outputId": "ad5a8d84-a0f1-4c85-db7b-98952418fa0a"
      },
      "execution_count": 22,
      "outputs": [
        {
          "output_type": "execute_result",
          "data": {
            "text/plain": [
              "[<matplotlib.lines.Line2D at 0x7a1614f7f610>]"
            ]
          },
          "metadata": {},
          "execution_count": 22
        },
        {
          "output_type": "display_data",
          "data": {
            "text/plain": [
              "<Figure size 400x400 with 1 Axes>"
            ],
            "image/png": "[encoded data removed]"
          },
          "metadata": {}
        }
      ]
    },
    {
      "cell_type": "code",
      "source": [
        "Y_diaria = np.diff(Y_cum_diaria_0)\n",
        "Y_diaria"
      ],
      "metadata": {
        "colab": {
          "base_uri": "https://localhost:8080/"
        },
        "id": "XncSX3DW9ahI",
        "outputId": "6877ac88-ef77-4144-8405-7346a8379a1d"
      },
      "execution_count": 23,
      "outputs": [
        {
          "output_type": "execute_result",
          "data": {
            "text/plain": [
              "array([   5.,    4.,    9.,   12.,   24.,   36.,   45.,   86.,  156.,\n",
              "        244.,  359.,  524.,  730.,  868.,  962., 1075., 1103., 1157.,\n",
              "       1081.,  967.,  808.,  656.,  503.,  375.,  268.,  198.,  150.,\n",
              "        150.,   93.,   53.,   55.,   22.,   32.,   26.,   13.,   12.,\n",
              "         10.,    8.,    8.,    2.])"
            ]
          },
          "metadata": {},
          "execution_count": 23
        }
      ]
    },
    {
      "cell_type": "code",
      "source": [
        "Y_diaria_0 = np.concatenate([np.atleast_1d(I0),Y_diaria])\n",
        "plt.figure(figsize=(4,4))\n",
        "plt.plot(Y_diaria_0 , color = 'k', alpha=1, label='Simulation')"
      ],
      "metadata": {
        "colab": {
          "base_uri": "https://localhost:8080/",
          "height": 387
        },
        "id": "Ej5h4Uarjj0m",
        "outputId": "a3b656b8-7a52-495c-ae24-afc9e7c9f260"
      },
      "execution_count": 24,
      "outputs": [
        {
          "output_type": "execute_result",
          "data": {
            "text/plain": [
              "[<matplotlib.lines.Line2D at 0x7a1614e1cdf0>]"
            ]
          },
          "metadata": {},
          "execution_count": 24
        },
        {
          "output_type": "display_data",
          "data": {
            "text/plain": [
              "<Figure size 400x400 with 1 Axes>"
            ],
            "image/png": "[encoded data removed]"
          },
          "metadata": {}
        }
      ]
    },
    {
      "cell_type": "code",
      "source": [
        "if len(Y_diaria_0) < len(dias):\n",
        "    dat = np.pad(Y_diaria_0, (0, len(dias) - len(Y_diaria_0)), 'constant')\n",
        "else:\n",
        "    dat = Y_diaria_0[:len(dias)]\n",
        "\n",
        "print(dat)"
      ],
      "metadata": {
        "colab": {
          "base_uri": "https://localhost:8080/"
        },
        "id": "lR-wbI_f7I1t",
        "outputId": "3f4472ec-eb0f-499d-d7fc-847db3442eae"
      },
      "execution_count": 25,
      "outputs": [
        {
          "output_type": "stream",
          "name": "stdout",
          "text": [
            "[   2.    5.    4.    9.   12.   24.   36.   45.   86.  156.  244.  359.\n",
            "  524.  730.  868.  962. 1075. 1103. 1157. 1081.  967.  808.  656.  503.\n",
            "  375.  268.  198.  150.  150.   93.   53.   55.   22.   32.   26.   13.\n",
            "   12.   10.    8.    8.    2.]\n"
          ]
        }
      ]
    },
    {
      "cell_type": "code",
      "source": [
        "plt.figure(figsize=(4,4))\n",
        "plt.plot(dias, dat, color = 'k', alpha=1, label='Incidencia diaria simulada')"
      ],
      "metadata": {
        "colab": {
          "base_uri": "https://localhost:8080/",
          "height": 387
        },
        "id": "2UQKkQ2V5xwu",
        "outputId": "d77c3f60-f45d-4060-c39f-5847441a1181"
      },
      "execution_count": 26,
      "outputs": [
        {
          "output_type": "execute_result",
          "data": {
            "text/plain": [
              "[<matplotlib.lines.Line2D at 0x7a1614e859c0>]"
            ]
          },
          "metadata": {},
          "execution_count": 26
        },
        {
          "output_type": "display_data",
          "data": {
            "text/plain": [
              "<Figure size 400x400 with 1 Axes>"
            ],
            "image/png": "[encoded data removed]"
          },
          "metadata": {}
        }
      ]
    },
    {
      "cell_type": "code",
      "source": [
        "from google.colab import drive\n",
        "drive.mount('/content/drive/')\n",
        "import joblib\n",
        "joblib.dump(dias,'/content/drive/MyDrive/Colab Notebooks/dias.joblib')\n",
        "joblib.dump(dat,'/content/drive/MyDrive/Colab Notebooks/dat.joblib')\n",
        "\n",
        "# Para cargar\n",
        "#b = joblib.load('/content/drive/MyDrive/Colab Notebooks/b.joblib')\n",
        "#g = joblib.load('/content/drive/MyDrive/Colab Notebooks/g.joblib')"
      ],
      "metadata": {
        "colab": {
          "base_uri": "https://localhost:8080/"
        },
        "id": "l8KSAadjcOm8",
        "outputId": "42ea0153-ed98-448a-bcac-3b1eec9b7ce2"
      },
      "execution_count": 27,
      "outputs": [
        {
          "output_type": "stream",
          "name": "stdout",
          "text": [
            "Mounted at /content/drive/\n"
          ]
        },
        {
          "output_type": "execute_result",
          "data": {
            "text/plain": [
              "['/content/drive/MyDrive/Colab Notebooks/dat.joblib']"
            ]
          },
          "metadata": {},
          "execution_count": 27
        }
      ]
    },
    {
      "cell_type": "markdown",
      "source": [],
      "metadata": {
        "id": "6q4Wo2gr6-xx"
      }
    },
    {
      "cell_type": "markdown",
      "source": [
        "https://github.com/Neojume/pythonABC/blob/master/algorithms.py\n",
        "\n",
        "https://bayesiancomputationbook.com/markdown/chp_08.html\n",
        "\n",
        "https://colab.research.google.com/github/astroML/astroML-notebooks/blob/main/chapter5/astroml_chapter5_Approximate_Bayesian_Computation.ipynb#scrollTo=O5BfwUFdYIk5"
      ],
      "metadata": {
        "id": "AkMordJ6AwrJ"
      }
    },
    {
      "cell_type": "markdown",
      "source": [
        "# ABC Funciones"
      ],
      "metadata": {
        "id": "lS_NUQ4XmzN_"
      }
    },
    {
      "cell_type": "code",
      "source": [
        "def epanechnikov(u):\n",
        "    return 0.75 * (1 - np.square(np.clip(u, -1, 1)))\n",
        "def gaussian(u):\n",
        "    # sigma = 1\n",
        "    return np.exp(-0.5 * np.square(u)) / np.sqrt(2 * np.pi)\n",
        "\n",
        "\n",
        "def log_KH(Isim, Iobs, f=1.2, epsilon=0.01):\n",
        "    # f  factor para el ancho de banda del Kernel para medir dist entre rep obs y rep sim\n",
        "    # epsilon es el termino que permite definir la función de distancia relativa en todos casos\n",
        "    Iobs = np.array(Iobs, dtype=float)\n",
        "    Iobs[Iobs == 0] = epsilon * np.max(Iobs)\n",
        "\n",
        "    Isim = np.array(Isim, dtype=float)\n",
        "    Isim[Isim == 0] = epsilon * np.max(Isim)\n",
        "\n",
        "    h = f * len(Iobs)\n",
        "    t_xy = (np.sqrt(np.nansum((Iobs - Isim) ** 2 / Iobs)) + np.sqrt(np.nansum((Iobs - Isim) ** 2 / Isim)))/2\n",
        "    #t_xy = np.sqrt(np.nansum((Iobs - Isim) ** 2 ))\n",
        "    #t_xy = np.nansum(np.abs(Iobs - Isim))/len(Iobs)\n",
        "    return -0.5 * np.square(t_xy )/ (2*np.square(h)) - 1/2*np.log(2*np.pi)  # kernel gaussiano con sigma = 1"
      ],
      "metadata": {
        "id": "WqPcejUt2n3S"
      },
      "execution_count": 105,
      "outputs": []
    },
    {
      "cell_type": "code",
      "source": [
        "xx = np.arange(-10,10,0.1)\n",
        "plt.plot(xx,gaussian(xx))\n",
        "plt.plot(xx, np.exp(-0.5 * np.square(xx)/ (2*np.square(1)) - np.log(2*np.pi)))\n",
        "plt.plot(xx,epanechnikov(xx))\n",
        "plt.show()"
      ],
      "metadata": {
        "colab": {
          "base_uri": "https://localhost:8080/",
          "height": 430
        },
        "id": "bT-rm6C_kb7s",
        "outputId": "e80c5062-f00c-4db8-94fd-27452b4f49da"
      },
      "execution_count": 29,
      "outputs": [
        {
          "output_type": "display_data",
          "data": {
            "text/plain": [
              "<Figure size 640x480 with 1 Axes>"
            ],
            "image/png": "[encoded data removed]"
          },
          "metadata": {}
        }
      ]
    },
    {
      "cell_type": "code",
      "source": [
        "# Ejemplo\n",
        "Isim = [1, 2, 3, 4]\n",
        "Iobs = [0, 2, 0, 4]\n",
        "f = 1.5\n",
        "resultado = log_KH(Isim, Iobs, f)\n",
        "print(resultado)"
      ],
      "metadata": {
        "colab": {
          "base_uri": "https://localhost:8080/"
        },
        "id": "dFC_CjMh23mY",
        "outputId": "948989e8-c6ca-4346-c51e-51d341ee1cf1"
      },
      "execution_count": 23,
      "outputs": [
        {
          "output_type": "stream",
          "name": "stdout",
          "text": [
            "-1.8445465108537897\n"
          ]
        }
      ]
    },
    {
      "cell_type": "code",
      "source": [
        "def q_mov(theta0, sd1=0.001, sd2=0.05):\n",
        "  x = np.random.binomial(1, 0.5)  # Indicadora para la mezcla\n",
        "  theta1=[-1,0]\n",
        "  while (theta1[0] < 0 or theta1[1] <0 ):\n",
        "    theta1 = [\n",
        "      x * np.random.normal(theta0[0], sd1) + (1 - x) * np.random.normal(theta0[0], sd2),\n",
        "      x * np.random.normal(theta0[1], sd1) + (1 - x) * np.random.normal(theta0[1], sd2)\n",
        "    ]\n",
        "  return theta1\n"
      ],
      "metadata": {
        "id": "dDymPM4F42pj"
      },
      "execution_count": 30,
      "outputs": []
    },
    {
      "cell_type": "code",
      "source": [
        " # Ejemplo\n",
        " q_mov([0.01, 0.02])"
      ],
      "metadata": {
        "colab": {
          "base_uri": "https://localhost:8080/"
        },
        "id": "rejMlnc523FN",
        "outputId": "c0af4250-7db8-487f-b653-fc83efd1eae9"
      },
      "execution_count": 31,
      "outputs": [
        {
          "output_type": "execute_result",
          "data": {
            "text/plain": [
              "[0.00938310034843833, 0.019058813432570872]"
            ]
          },
          "metadata": {},
          "execution_count": 31
        }
      ]
    },
    {
      "cell_type": "code",
      "source": [
        "def logaprioris(params0, tasas_exp):\n",
        "    # tasas_exp indica los parametros para beta y gamma\n",
        "    logap = np.sum([np.log(tasas_exp[0])- tasas_exp[0] * params0[0],\n",
        "        np.log(tasas_exp[1])- tasas_exp[1] * params0[1]])\n",
        "    return logap\n",
        "\n",
        "# Ejemplo\n",
        "params0 = [1.0, 2.0]\n",
        "tasas_exp = [0.1, 0.2]\n",
        "resultado = logaprioris(params0, tasas_exp)\n",
        "print(resultado)\n"
      ],
      "metadata": {
        "colab": {
          "base_uri": "https://localhost:8080/"
        },
        "id": "BXTbKiop22xF",
        "outputId": "11e4eb16-2f58-4707-eae6-fc69d4581aef"
      },
      "execution_count": 32,
      "outputs": [
        {
          "output_type": "stream",
          "name": "stdout",
          "text": [
            "-4.412023005428146\n"
          ]
        }
      ]
    },
    {
      "cell_type": "code",
      "source": [
        "def a_dias(t, I, S, N, dias):\n",
        "  Ycum = N - S\n",
        " # print(len(Ycum))\n",
        "  cut_labels, cut_bins = pd.cut(t, bins=dias, include_lowest=True, retbins=True, labels=False)\n",
        "\n",
        "  # Obtener el valor más grande de Y en cada día\n",
        "  temp_df = pd.DataFrame({\n",
        "    'bin': cut_labels,\n",
        "    'value':  np.arange(len(cut_labels))\n",
        "  })\n",
        "  index = temp_df.groupby('bin').max()['value'].values\n",
        "  if (len(Ycum)<np.max(index)):\n",
        "    ipdb.set_trace()\n",
        "\n",
        "  Y_cum_diaria = Ycum[index]\n",
        "  Y_cum_diaria_0 = np.concatenate([np.antleast_1d(I0),Y_cum_diaria])\n",
        "  Y_diaria = p.diff(Y_cum_diaria_0)\n",
        "  Y_diaria_0 = np.concatenate([np.atleast_1d(I0),Y_diaria])\n",
        "\n",
        "  if len(Y_diaria_0) < len(dias):\n",
        "    Y_diaria_0_p = np.pad(Y_diaria_0, (0, len(dias) - len(Y_diaria_0)), 'constant')\n",
        "  else:\n",
        "    Y_diaria_0_p = Y_diaria_0[:len(dias)]\n",
        "  #ipdb.set_trace()\n",
        "  return Y_diaria_0_p"
      ],
      "metadata": {
        "id": "Q3UbTYUGhBkE"
      },
      "execution_count": 33,
      "outputs": []
    },
    {
      "cell_type": "code",
      "source": [
        "print(tau, gamma)\n",
        "print(dias)\n",
        "print(len(dias))"
      ],
      "metadata": {
        "colab": {
          "base_uri": "https://localhost:8080/"
        },
        "id": "ATaA9lhzlAOA",
        "outputId": "0f72ee83-31a8-4d6b-c8b6-31cf50dc6e16"
      },
      "execution_count": 35,
      "outputs": [
        {
          "output_type": "stream",
          "name": "stdout",
          "text": [
            "0.15 0.5\n",
            "[ 0  1  2  3  4  5  6  7  8  9 10 11 12 13 14 15 16 17 18 19 20 21 22 23\n",
            " 24 25 26 27 28 29 30 31 32 33 34 35 36 37 38 39 40]\n",
            "41\n"
          ]
        }
      ]
    },
    {
      "cell_type": "code",
      "source": [
        "t, S, I, R = EoN.fast_SIR(G_Poisson, 0.15, 1.0, rho=rho, tmax = tmax)\n",
        "plt.figure(figsize=(2,2))\n",
        "plt.plot(t,I)\n",
        "print(\"t=\",t)\n",
        "\n",
        "res = a_dias(t, I, S, N, dias)\n",
        "print(res)\n",
        "print(len(res))"
      ],
      "metadata": {
        "colab": {
          "base_uri": "https://localhost:8080/",
          "height": 283
        },
        "id": "nCDRArOKkg8w",
        "outputId": "3d1473e8-6a4f-4392-a382-658d835798c0"
      },
      "execution_count": 34,
      "outputs": [
        {
          "output_type": "stream",
          "name": "stdout",
          "text": [
            "t= [0.         0.17363879 0.49333148]\n",
            "[2. 0. 0. 0. 0. 0. 0. 0. 0. 0. 0. 0. 0. 0. 0. 0. 0. 0. 0. 0. 0. 0. 0. 0.\n",
            " 0. 0. 0. 0. 0. 0. 0. 0. 0. 0. 0. 0. 0. 0. 0. 0. 0.]\n",
            "41\n"
          ]
        },
        {
          "output_type": "display_data",
          "data": {
            "text/plain": [
              "<Figure size 200x200 with 1 Axes>"
            ],
            "image/png": "[encoded data removed]"
          },
          "metadata": {}
        }
      ]
    },
    {
      "cell_type": "code",
      "source": [
        "def ABC(net, N, dat, dias, nsim, th_actual, tasas_exp, tmax ,rho=rho,  f=1.5, epsilon = 0.005):\n",
        "  beta_v = [-1]*nsim\n",
        "  gamma_v = [-1]*nsim\n",
        "  alfa_v = [-1]*nsim\n",
        "  acepta_v = [0]*nsim\n",
        "  It = np.zeros((len(dias), nsim+1))\n",
        "\n",
        "  tta, Sta, Ita, Rta = EoN.fast_SIR(net, th_actual[0], th_actual[1], rho=rho, tmax = tmax)\n",
        "  Ita_diaria = a_dias(tta, Ita, Sta, N, dias)\n",
        "  It[:,0] = Ita_diaria\n",
        "\n",
        "  for i in range(nsim):\n",
        "    if i % 100 ==0:\n",
        "      print('iteración:', i)\n",
        "    th_prop = q_mov(th_actual)\n",
        "    ttp, Stp, Itp, Rtp = EoN.fast_SIR(net, th_prop[0], th_prop[1], rho=rho, tmax = tmax)\n",
        "    Itp_diaria = a_dias(ttp, Itp, Stp, N, dias)\n",
        "    It[:,i+1] = Itp_diaria\n",
        "\n",
        "    #ipdb.set_trace()\n",
        "    logalfa = logaprioris(th_prop, tasas_exp) + log_KH(Itp_diaria, dat, f=f, epsilon=epsilon) - logaprioris(th_actual, tasas_exp) - log_KH(Ita_diaria, dat, f=f, epsilon=epsilon)\n",
        "    if logalfa > 0:\n",
        "      alfa = 1\n",
        "    else:\n",
        "      alfa = np.exp(logalfa)\n",
        "    alfa_v[i] = alfa\n",
        "\n",
        "    if np.random.binomial(1, alfa) == 1:\n",
        "      th_actual = th_prop\n",
        "      Ita = Itp\n",
        "      beta_v[i] = th_prop[0]\n",
        "      gamma_v[i] = th_prop[1]\n",
        "      acepta_v[i] = 1\n",
        "    else:\n",
        "      beta_v[i] = th_actual[0]\n",
        "      gamma_v[i] = th_actual[1]\n",
        "  return beta_v, gamma_v, alfa_v, acepta_v, It"
      ],
      "metadata": {
        "id": "rSCOm0slBqJH"
      },
      "execution_count": 72,
      "outputs": []
    },
    {
      "cell_type": "code",
      "source": [
        "It = np.zeros((len(dias), 10))\n",
        "It[:,0]=range(len(dias))\n",
        "It[:,0]"
      ],
      "metadata": {
        "colab": {
          "base_uri": "https://localhost:8080/"
        },
        "id": "pTMOlaCQIBpw",
        "outputId": "d6363e37-e575-47be-de0b-1d8095847c80"
      },
      "execution_count": 69,
      "outputs": [
        {
          "output_type": "execute_result",
          "data": {
            "text/plain": [
              "array([ 0.,  1.,  2.,  3.,  4.,  5.,  6.,  7.,  8.,  9., 10., 11., 12.,\n",
              "       13., 14., 15., 16., 17., 18., 19., 20., 21., 22., 23., 24., 25.,\n",
              "       26., 27., 28., 29., 30., 31., 32., 33., 34., 35., 36., 37., 38.,\n",
              "       39., 40.])"
            ]
          },
          "metadata": {},
          "execution_count": 69
        }
      ]
    },
    {
      "cell_type": "markdown",
      "source": [
        "# Run"
      ],
      "metadata": {
        "id": "GhQjSwGE0KZg"
      }
    },
    {
      "cell_type": "code",
      "source": [
        "f=0.05\n",
        "b, g, a, acept, it= ABC(net=G_Poisson, N=N, dat=dat, dias=dias, nsim=5000, th_actual=[0.5,0.5], tasas_exp=[1,1], tmax = tmax, rho=rho,  f=f, epsilon = 0.01)"
      ],
      "metadata": {
        "id": "-C05uoEcBry3",
        "colab": {
          "base_uri": "https://localhost:8080/"
        },
        "outputId": "c1775d5b-90d6-4b1c-bcca-cea8fb011584"
      },
      "execution_count": 108,
      "outputs": [
        {
          "output_type": "stream",
          "name": "stdout",
          "text": [
            "iteración: 0\n",
            "iteración: 100\n",
            "iteración: 200\n",
            "iteración: 300\n",
            "iteración: 400\n",
            "iteración: 500\n",
            "iteración: 600\n",
            "iteración: 700\n",
            "iteración: 800\n",
            "iteración: 900\n",
            "iteración: 1000\n",
            "iteración: 1100\n",
            "iteración: 1200\n",
            "iteración: 1300\n",
            "iteración: 1400\n",
            "iteración: 1500\n",
            "iteración: 1600\n",
            "iteración: 1700\n",
            "iteración: 1800\n",
            "iteración: 1900\n",
            "iteración: 2000\n",
            "iteración: 2100\n",
            "iteración: 2200\n",
            "iteración: 2300\n",
            "iteración: 2400\n",
            "iteración: 2500\n",
            "iteración: 2600\n",
            "iteración: 2700\n",
            "iteración: 2800\n",
            "iteración: 2900\n",
            "iteración: 3000\n",
            "iteración: 3100\n",
            "iteración: 3200\n",
            "iteración: 3300\n",
            "iteración: 3400\n",
            "iteración: 3500\n",
            "iteración: 3600\n",
            "iteración: 3700\n",
            "iteración: 3800\n",
            "iteración: 3900\n",
            "iteración: 4000\n",
            "iteración: 4100\n",
            "iteración: 4200\n",
            "iteración: 4300\n",
            "iteración: 4400\n",
            "iteración: 4500\n",
            "iteración: 4600\n",
            "iteración: 4700\n",
            "iteración: 4800\n",
            "iteración: 4900\n"
          ]
        }
      ]
    },
    {
      "cell_type": "code",
      "source": [
        "from google.colab import drive\n",
        "drive.mount('/content/drive/')\n",
        "import joblib\n",
        "joblib.dump(b,'/content/drive/MyDrive/Colab Notebooks/b.joblib')\n",
        "joblib.dump(g,'/content/drive/MyDrive/Colab Notebooks/g.joblib')\n",
        "joblib.dump(a,'/content/drive/MyDrive/Colab Notebooks/a.joblib')\n",
        "joblib.dump(acept,'/content/drive/MyDrive/Colab Notebooks/acept.joblib')\n",
        "joblib.dump(it,'/content/drive/MyDrive/Colab Notebooks/it.joblib')\n",
        "\n",
        "# Para cargar\n",
        "#b = joblib.load('/content/drive/MyDrive/Colab Notebooks/b.joblib')\n",
        "#g = joblib.load('/content/drive/MyDrive/Colab Notebooks/g.joblib')"
      ],
      "metadata": {
        "colab": {
          "base_uri": "https://localhost:8080/"
        },
        "id": "MdYfn-HstC5s",
        "outputId": "5d317876-7594-4281-ea4f-6b95238da1bb"
      },
      "execution_count": 37,
      "outputs": [
        {
          "output_type": "stream",
          "name": "stdout",
          "text": [
            "Drive already mounted at /content/drive/; to attempt to forcibly remount, call drive.mount(\"/content/drive/\", force_remount=True).\n"
          ]
        },
        {
          "output_type": "execute_result",
          "data": {
            "text/plain": [
              "['/content/drive/MyDrive/Colab Notebooks/acept.joblib']"
            ]
          },
          "metadata": {},
          "execution_count": 37
        }
      ]
    },
    {
      "cell_type": "code",
      "source": [
        "plt.figure(figsize=(3,3))\n",
        "plt.plot(b)\n",
        "plt.figure(figsize=(3,3))\n",
        "plt.plot(g)\n",
        "plt.figure(figsize=(3,3))\n",
        "plt.plot(a,'o')\n",
        "print(np.sum(acept)/len(acept))"
      ],
      "metadata": {
        "id": "t9lIHtqiduBF",
        "colab": {
          "base_uri": "https://localhost:8080/",
          "height": 856
        },
        "outputId": "7858ab1e-a046-4fe7-c9b0-451e1412151c"
      },
      "execution_count": 109,
      "outputs": [
        {
          "output_type": "stream",
          "name": "stdout",
          "text": [
            "0.8756\n"
          ]
        },
        {
          "output_type": "display_data",
          "data": {
            "text/plain": [
              "<Figure size 300x300 with 1 Axes>"
            ],
            "image/png": "[encoded data removed]"
          },
          "metadata": {}
        },
        {
          "output_type": "display_data",
          "data": {
            "text/plain": [
              "<Figure size 300x300 with 1 Axes>"
            ],
            "image/png": "[encoded data removed]"
          },
          "metadata": {}
        },
        {
          "output_type": "display_data",
          "data": {
            "text/plain": [
              "<Figure size 300x300 with 1 Axes>"
            ],
            "image/png": "[encoded data removed]"
          },
          "metadata": {}
        }
      ]
    },
    {
      "cell_type": "code",
      "source": [
        "print(len(dias))\n",
        "It.shape"
      ],
      "metadata": {
        "colab": {
          "base_uri": "https://localhost:8080/"
        },
        "id": "Re5drzldPPuf",
        "outputId": "c914c717-b630-4e92-f3aa-157f38f7fc3e"
      },
      "execution_count": 80,
      "outputs": [
        {
          "output_type": "stream",
          "name": "stdout",
          "text": [
            "41\n"
          ]
        },
        {
          "output_type": "execute_result",
          "data": {
            "text/plain": [
              "(41, 10)"
            ]
          },
          "metadata": {},
          "execution_count": 80
        }
      ]
    },
    {
      "cell_type": "code",
      "source": [
        "j = 950\n",
        "print(a[j])\n",
        "print(acept[j])\n",
        "plt.subplot(1, 2, 1)\n",
        "plt.plot(dias,dat)\n",
        "plt.plot(dias, it[:,j-1])\n",
        "plt.subplot(1, 2, 2)\n",
        "plt.plot(dias,dat)\n",
        "plt.plot(dias, it[:,j])"
      ],
      "metadata": {
        "colab": {
          "base_uri": "https://localhost:8080/",
          "height": 482
        },
        "id": "GEaWFtJ7N7he",
        "outputId": "1006cb05-2024-4425-daef-d3800d9ad8e4"
      },
      "execution_count": 114,
      "outputs": [
        {
          "output_type": "stream",
          "name": "stdout",
          "text": [
            "1\n",
            "1\n"
          ]
        },
        {
          "output_type": "execute_result",
          "data": {
            "text/plain": [
              "[<matplotlib.lines.Line2D at 0x7a15c8d96a10>]"
            ]
          },
          "metadata": {},
          "execution_count": 114
        },
        {
          "output_type": "display_data",
          "data": {
            "text/plain": [
              "<Figure size 640x480 with 2 Axes>"
            ],
            "image/png": "[encoded data removed]"
          },
          "metadata": {}
        }
      ]
    },
    {
      "cell_type": "code",
      "source": [
        "logalfa = logaprioris([b[j],g[j]], [1,1]) + log_KH(it[:,j], dat, f=f, epsilon=0.01) - logaprioris([b[j-1],g[j-1]], [1,1]) - log_KH(it[:,j-1], dat, f=f, epsilon=0.01)\n",
        "print(logalfa)\n",
        "print(np.exp(logalfa))\n",
        "\n",
        "print(logaprioris([b[j],g[j]], [1,1]) )\n",
        "print(log_KH(it[:,j], dat, f=f, epsilon=0.01))\n",
        "\n",
        "print(logaprioris([b[j-1],g[j-1]], [1,1]) )\n",
        "print(log_KH(it[:,j-1], dat, f=f, epsilon=0.01))\n",
        "\n"
      ],
      "metadata": {
        "colab": {
          "base_uri": "https://localhost:8080/"
        },
        "id": "tRk89AWuRQc9",
        "outputId": "6c8fa6a5-4844-4879-9485-ba2959ab5a49"
      },
      "execution_count": 113,
      "outputs": [
        {
          "output_type": "stream",
          "name": "stdout",
          "text": [
            "-15481.810825605178\n",
            "0.0\n",
            "-4.925542898434628\n",
            "-649587.8354829588\n",
            "-4.926761709713334\n",
            "-634106.0234385424\n"
          ]
        }
      ]
    },
    {
      "cell_type": "code",
      "source": [
        "log_KH([0]*len(dias), dat, f=f, epsilon=0.01)"
      ],
      "metadata": {
        "colab": {
          "base_uri": "https://localhost:8080/"
        },
        "id": "fiB3A0qYaia5",
        "outputId": "73a99b1f-4931-4bc1-97fa-23a05656e1b1"
      },
      "execution_count": 93,
      "outputs": [
        {
          "output_type": "execute_result",
          "data": {
            "text/plain": [
              "-5882.656566261991"
            ]
          },
          "metadata": {},
          "execution_count": 93
        }
      ]
    },
    {
      "cell_type": "code",
      "source": [
        "logalfa = logaprioris([b[j],g[j]], [1,1]) + log_KH(it[:,j], dat, f=f, epsilon=0.01) - logaprioris([b[j-1],g[j-1]], [1,1]) - log_KH(it[:,j-1], dat, f=f, epsilon=0.01)\n",
        "print(logalfa)\n",
        "print(np.exp(logalfa))\n",
        "\n",
        "print(logaprioris([b[j],g[j]], [1,1]) )\n",
        "print(log_KH(it[:,j], dat, f=f, epsilon=0.01))\n",
        "\n",
        "print(logaprioris([b[j-1],g[j-1]], [1,1]) )\n",
        "print(log_KH(it[:,j-1], dat, f=f, epsilon=0.01))"
      ],
      "metadata": {
        "colab": {
          "base_uri": "https://localhost:8080/"
        },
        "id": "mwDEhtI2bt6y",
        "outputId": "15dd161b-74e0-4980-cf20-6cf088312b30"
      },
      "execution_count": 95,
      "outputs": [
        {
          "output_type": "stream",
          "name": "stdout",
          "text": [
            "118096.80586032967\n",
            "inf\n",
            "-0.9862447846901345\n",
            "-768.5838615994252\n",
            "-0.9873879035395301\n",
            "-118865.38857881025\n"
          ]
        },
        {
          "output_type": "stream",
          "name": "stderr",
          "text": [
            "<ipython-input-95-791f494247fd>:3: RuntimeWarning: overflow encountered in exp\n",
            "  print(np.exp(logalfa))\n"
          ]
        }
      ]
    },
    {
      "cell_type": "code",
      "source": [
        "log_KH([0]*len(dias), dat, f=f, epsilon=0.01)"
      ],
      "metadata": {
        "colab": {
          "base_uri": "https://localhost:8080/"
        },
        "id": "zj4FEBeGbtVX",
        "outputId": "59010c93-e0d6-42fe-b562-4d4011d296a0"
      },
      "execution_count": 96,
      "outputs": [
        {
          "output_type": "execute_result",
          "data": {
            "text/plain": [
              "-768.7028383989492"
            ]
          },
          "metadata": {},
          "execution_count": 96
        }
      ]
    },
    {
      "cell_type": "code",
      "source": [
        "itj1= it[:,j-1]\n",
        "itj1[itj1==0]=0.01*np.max(it[:,j-1])\n",
        "itj= it[:,j]\n",
        "itj[itj==0]=0.01*np.max(it[:,j])\n",
        "\n",
        "print((np.sqrt(np.nansum((dat - it[:,j-1]) ** 2 / dat))+np.sqrt(np.nansum((dat - it[:,j-1]) ** 2 /itj1))/2 ))\n",
        "print((np.sqrt(np.nansum((dat - it[:,j]) ** 2 / dat))+np.sqrt(np.nansum((dat - it[:,j-1]) ** 2 /itj))/2 ))\n",
        "\n",
        "print(np.sqrt(np.nansum((dat - it[:,j-1]) ** 2 )))\n",
        "print(np.sqrt(np.nansum((dat - it[:,j]) ** 2 )))\n",
        "\n",
        "print(np.nansum(np.abs(dat - it[:,j-1]))/len(dat))\n",
        "print(np.nansum(np.abs(dat - it[:,j]))/len(dat))"
      ],
      "metadata": {
        "colab": {
          "base_uri": "https://localhost:8080/"
        },
        "id": "k3PAVAVTg_r3",
        "outputId": "9cdc8d7a-6222-4c4f-a9f6-3be6c700f9db"
      },
      "execution_count": 104,
      "outputs": [
        {
          "output_type": "stream",
          "name": "stdout",
          "text": [
            "2139.6065508937168\n",
            "31325.926550982433\n",
            "8828.200971336119\n",
            "3189.7879954630216\n",
            "697.6904878048779\n",
            "314.34634146341466\n"
          ]
        }
      ]
    },
    {
      "cell_type": "code",
      "source": [
        "print(np.nansum(np.abs(dat - it[:,j-1]))/len(dat))\n",
        "print(np.nansum(np.abs(dat - it[:,j]))/len(dat))"
      ],
      "metadata": {
        "id": "GaxFRYiair6T"
      },
      "execution_count": null,
      "outputs": []
    }
  ]
}